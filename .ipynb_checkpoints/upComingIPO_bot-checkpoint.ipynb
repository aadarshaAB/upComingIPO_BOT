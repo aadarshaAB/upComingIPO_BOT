{
 "cells": [
  {
   "cell_type": "code",
   "execution_count": 1,
   "id": "ad6f4f0f",
   "metadata": {},
   "outputs": [
    {
     "name": "stdout",
     "output_type": "stream",
     "text": [
      "Requirement already satisfied: beautifulsoup4 in c:\\users\\admin.desktop-4o1tr7c\\anaconda3\\lib\\site-packages (4.11.1)Note: you may need to restart the kernel to use updated packages.\n",
      "\n",
      "Requirement already satisfied: soupsieve>1.2 in c:\\users\\admin.desktop-4o1tr7c\\anaconda3\\lib\\site-packages (from beautifulsoup4) (2.3.2.post1)\n"
     ]
    }
   ],
   "source": [
    "pip install beautifulsoup4"
   ]
  },
  {
   "cell_type": "markdown",
   "id": "08e97ba7",
   "metadata": {},
   "source": [
    "# #Scrape information from website"
   ]
  },
  {
   "cell_type": "code",
   "execution_count": 2,
   "id": "69441fa4",
   "metadata": {},
   "outputs": [
    {
     "name": "stdout",
     "output_type": "stream",
     "text": [
      "Ghorahi Cement Industry Ltd.\n",
      "Local/Nepalese migrant workers\n",
      "Baishakh 19\n",
      "Jesth 17\n"
     ]
    }
   ],
   "source": [
    "import requests\n",
    "from bs4 import BeautifulSoup\n",
    "import pandas as pd\n",
    "\n",
    "# Step 1: Set the necessary required libraries.\n",
    "\n",
    "# Step 2: Grab the ipo webpage.\n",
    "upcomingIPO_url = \"https://www.sharegyannepal.com/upcoming-ipos-in-nepal/\"\n",
    "\n",
    "# Step 3: Set headers.\n",
    "headers = {\"Accept-Language\": \"en-US, en;q=0.5\"}\n",
    "\n",
    "# Step 4: Save all values to the results objects coming back from the .get on sharegyanneapal URL.\n",
    "results = requests.get(upcomingIPO_url, headers=headers)\n",
    "\n",
    "# Step 5: Parse the results object to movie_soup using the html parser.\n",
    "ipo_soup = BeautifulSoup(results.text, \"html.parser\")\n",
    "\n",
    "# Step 6: I want to extract these attributes (to a list) from the movie_soup.\n",
    "ipo_name = ''\n",
    "opening_date=''\n",
    "closing_date=''\n",
    "ipo_type=''\n",
    "row_elements=[]\n",
    "# Step 7: Create a movie_div object to find all div objects in movie_soup.\n",
    "ipo_table1 = ipo_soup.find_all('table', class_='tablepress tablepress-id-4')\n",
    "\n",
    "\n",
    "for row in ipo_table1:\n",
    "  ipo_row=row.find_all('tr')\n",
    "  for i in ipo_row:\n",
    "    row_elements.append(i.text)\n",
    "\n",
    "for row in ipo_table1:\n",
    "  ipo_row=row.find_all('tr')\n",
    "  for each_row in ipo_row:\n",
    "    data=row.find_all('td')\n",
    "    ipo_name=data[0].get_text()\n",
    "    ipo_type=data[1].get_text()\n",
    "    ipo_openingDate=data[2].get_text()\n",
    "    ipo_closingDate=data[3].get_text()\n",
    "\n",
    "print(ipo_name)\n",
    "print(ipo_type)\n",
    "print(ipo_openingDate)\n",
    "print(ipo_closingDate)\n",
    "\n"
   ]
  },
  {
   "cell_type": "markdown",
   "id": "f69c6056",
   "metadata": {},
   "source": [
    "# #Telegram bot deploy"
   ]
  },
  {
   "cell_type": "code",
   "execution_count": null,
   "id": "7ebff544",
   "metadata": {},
   "outputs": [],
   "source": [
    "#Now for telegram bot\n",
    "from typing import Final\n",
    "from telegram import Update\n",
    "from telegram .ext import Application, CommandHandler, MessageHandler, filters, ContextTypes\n",
    "\n",
    "\n",
    "Token: Final='6063225159:AAH4m0bf-wIxJRvNLMo-wQbsjgokDOePO4I'\n",
    "\n",
    "BOT_USERNAME:Final='upcomingIPO'\n",
    "\n",
    "async def start_command(update:Update,context:ContextTypes.DEFAULT_TYPES):\n",
    "  await update.messege.reply_text(\"Hello welcome\")\n",
    "\n",
    "async def help_command(update:Update,context:ContextTypes.DEFAULT_TYPES):\n",
    "  await update.messege.reply_text(\"Hello!I am a bot that tells about upcoming IPO\")\n",
    "\n",
    "  # update.message,reply-text(\"\"\"\n",
    "  #     /start->Here you can check upcoimg IPO\n",
    "  #     /ipoName->get ipo name\n",
    "  #     /ipoType->ipo type\n",
    "  #     /ipoOpeningDate->ipo opening date\n",
    "  #     /ipoClosingDate->ipo closing date\n",
    "  #     \"\"\"\n",
    "  # )\n",
    "def handle_responses(text:str)->:\n",
    "  processed:str=text.lower()\n",
    "def ipoName(update,context):\n",
    "  update.messege.reply_text(\"IPO Name= \",+ipo_name)\n",
    "def ipoType(update,context):\n",
    "  update.messege.reply_text(\"IPO Type= \",+ipo_type)\n",
    "def ipoOpeningDate(update,context):\n",
    "  update.messege.reply_text(\"IPO Opening Date= \",+ipo_openingDate)\n",
    "def ipoOpeningDate(update,context):\n",
    "  update.messege.reply_text(\"IPO Closing Date= \",+ipo_closingDate)\n",
    "\n",
    "dispatcher.add_handler(telegram.ext.CommandHandler('start',start))\n",
    "dispatcher.add_handler(telegram.ext.CommandHandler('ipoName',ipoName))\n",
    "dispatcher.add_handler(telegram.ext.CommandHandler('ipoType',ipoType))\n",
    "dispatcher.add_handler(telegram.ext.CommandHandler('ipoOpeningDate',ipoOpeningDate))\n",
    "dispatcher.add_handler(telegram.ext.CommandHandler('ipoClosingDate',ipoClosingDate))\n",
    "\n",
    "\n",
    "updater.start_polling()\n",
    "updater.idle()\n",
    "\n",
    "\n",
    "\n",
    "\n",
    "\n"
   ]
  }
 ],
 "metadata": {
  "kernelspec": {
   "display_name": "Python 3 (ipykernel)",
   "language": "python",
   "name": "python3"
  },
  "language_info": {
   "codemirror_mode": {
    "name": "ipython",
    "version": 3
   },
   "file_extension": ".py",
   "mimetype": "text/x-python",
   "name": "python",
   "nbconvert_exporter": "python",
   "pygments_lexer": "ipython3",
   "version": "3.10.9"
  }
 },
 "nbformat": 4,
 "nbformat_minor": 5
}
